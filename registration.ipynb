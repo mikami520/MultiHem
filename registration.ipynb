{
 "cells": [
  {
   "cell_type": "markdown",
   "metadata": {},
   "source": [
    "# Find Reference Scan (change data path as needed)"
   ]
  },
  {
   "cell_type": "code",
   "execution_count": 1,
   "metadata": {},
   "outputs": [
    {
     "name": "stdout",
     "output_type": "stream",
     "text": [
      "📌 Median Voxel Size (Best for Reference): [0.48828101 0.4742834  5.        ]\n",
      "✅ Selected Reference Scan: ../Hemo_Data/raw/images/Hem_00167.nii.gz\n"
     ]
    }
   ],
   "source": [
    "import nibabel as nib\n",
    "import numpy as np\n",
    "import glob\n",
    "\n",
    "\n",
    "def find_best_reference_scan(affine_matrices, median_voxel_size):\n",
    "    min_diff = float(\"inf\")\n",
    "    best_scan = None\n",
    "\n",
    "    for path, affine, voxel_size in affine_matrices:\n",
    "        diff = np.sum(np.abs(voxel_size - median_voxel_size))  # Compute difference\n",
    "        if diff < min_diff:\n",
    "            min_diff = diff\n",
    "            best_scan = path\n",
    "\n",
    "    return best_scan\n",
    "\n",
    "\n",
    "# Load all scans\n",
    "image_paths = glob.glob(\"../Hemo_Data/raw/images/*.nii.gz\")\n",
    "\n",
    "# Store voxel sizes and affine matrices\n",
    "voxel_sizes = []\n",
    "affine_matrices = []\n",
    "\n",
    "for path in image_paths:\n",
    "    img = nib.load(path)\n",
    "    affine = img.affine\n",
    "    voxel_size = np.abs(np.diag(affine)[:3])  # Extract voxel size (spacing)\n",
    "\n",
    "    voxel_sizes.append(voxel_size)\n",
    "    affine_matrices.append((path, affine, voxel_size))\n",
    "\n",
    "# Compute the median voxel size\n",
    "median_voxel_size = np.median(voxel_sizes, axis=0)\n",
    "\n",
    "print(f\"📌 Median Voxel Size (Best for Reference): {median_voxel_size}\")\n",
    "\n",
    "best_reference_scan = find_best_reference_scan(affine_matrices, median_voxel_size)\n",
    "print(f\"✅ Selected Reference Scan: {best_reference_scan}\")"
   ]
  },
  {
   "cell_type": "markdown",
   "metadata": {},
   "source": [
    "# Do Registration (change data path as needed)"
   ]
  },
  {
   "cell_type": "code",
   "execution_count": null,
   "metadata": {},
   "outputs": [],
   "source": [
    "import ants\n",
    "import os\n",
    "import shutil\n",
    "\n",
    "# Load reference scan\n",
    "fixed_image = ants.image_read(best_reference_scan)\n",
    "\n",
    "# Register all other scans\n",
    "for moving_path in image_paths:\n",
    "    if moving_path == best_reference_scan:\n",
    "        continue  # Skip the reference scan itself\n",
    "\n",
    "    moving_image = ants.image_read(moving_path)\n",
    "    assert os.path.exists(moving_path.replace(\"images\", \"labels\")), (\n",
    "        \"Label file not found\"\n",
    "    )\n",
    "    moving_mask = ants.image_read(moving_path.replace(\"images\", \"labels\"))\n",
    "\n",
    "    # Perform registration (affine + deformable)\n",
    "    transformation = ants.registration(\n",
    "        fixed=fixed_image,\n",
    "        moving=moving_image,\n",
    "        type_of_transform=\"SyNRA\",  # Symmetric Normalization (Recommended)\n",
    "    )\n",
    "\n",
    "    # Apply the computed transformations\n",
    "    reg_img = ants.apply_transforms(\n",
    "        fixed=fixed_image,\n",
    "        moving=moving_image,\n",
    "        transformlist=transformation[\"fwdtransforms\"],  # ✅ Fixed variable name\n",
    "        interpolator=\"linear\",\n",
    "        verbose=False,\n",
    "    )\n",
    "    reg_mask = ants.apply_transforms(\n",
    "        fixed=fixed_image,\n",
    "        moving=moving_mask,\n",
    "        transformlist=transformation[\"fwdtransforms\"],  # ✅ Fixed variable name\n",
    "        interpolator=\"genericLabel\",\n",
    "        verbose=False,\n",
    "    )\n",
    "\n",
    "    # Save registered image\n",
    "    filename = moving_path.split(\"/\")[-1]\n",
    "    output_img_path = os.path.join(f\"Hemo_Data/preprocessed/images/{filename}\")\n",
    "    output_mask_path = os.path.join(f\"Hemo_Data/preprocessed/labels/{filename}\")\n",
    "    ants.image_write(reg_img, output_img_path)\n",
    "    ants.image_write(reg_mask, output_mask_path)\n",
    "\n",
    "    print(f\"✅ Registered {moving_path} to {best_reference_scan} → {output_img_path}\")\n",
    "    print(f\"✅ Registered {moving_path} to {best_reference_scan} → {output_mask_path}\")\n",
    "    \n",
    "    print(f\"✅ Copied {best_reference_scan} to preprocessed folder\")\n",
    "    shutil.copy(\n",
    "        best_reference_scan,\n",
    "        f\"Hemo_Data/preprocessed/images/{best_reference_scan.split('/')[-1]}\",\n",
    "    )\n",
    "    print(f\"✅ Copied {best_reference_scan.replace('images', 'labels')} to preprocessed folder\")\n",
    "    shutil.copy(\n",
    "        best_reference_scan.replace(\"images\", \"labels\"),\n",
    "        f\"Hemo_Data/preprocessed/labels/{best_reference_scan.split('/')[-1]}\",\n",
    "    )"
   ]
  }
 ],
 "metadata": {
  "kernelspec": {
   "display_name": "env",
   "language": "python",
   "name": "python3"
  },
  "language_info": {
   "codemirror_mode": {
    "name": "ipython",
    "version": 3
   },
   "file_extension": ".py",
   "mimetype": "text/x-python",
   "name": "python",
   "nbconvert_exporter": "python",
   "pygments_lexer": "ipython3",
   "version": "3.10.16"
  }
 },
 "nbformat": 4,
 "nbformat_minor": 2
}
